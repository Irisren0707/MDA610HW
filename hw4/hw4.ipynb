{
 "cells": [
  {
   "cell_type": "code",
   "execution_count": 1,
   "metadata": {},
   "outputs": [
    {
     "name": "stdout",
     "output_type": "stream",
     "text": [
      "please input a stringdjiew\n",
      "weijd\n"
     ]
    }
   ],
   "source": [
    "R1=input('please enter a string. ')\n",
    "R2=R1[::-1]\n",
    "print(R2)"
   ]
  },
  {
   "cell_type": "code",
   "execution_count": 12,
   "metadata": {},
   "outputs": [
    {
     "name": "stdout",
     "output_type": "stream",
     "text": [
      "please enter a number. 4\n",
      "the average is  2.5\n"
     ]
    }
   ],
   "source": [
    "n1=[1,2,3]\n",
    "n2=input('please enter a number. ')\n",
    "n1.append(int(n2))\n",
    "print('the average is ',sum(n1)/4)"
   ]
  },
  {
   "cell_type": "code",
   "execution_count": 11,
   "metadata": {},
   "outputs": [
    {
     "name": "stdout",
     "output_type": "stream",
     "text": [
      "please input the radius of a circle. 2\n",
      "12.566370614359172\n"
     ]
    }
   ],
   "source": [
    "import math\n",
    "r1=input('please enter the radius of a circle. ')\n",
    "s=math.pi*int(r1)**2\n",
    "print(s)"
   ]
  },
  {
   "cell_type": "code",
   "execution_count": 16,
   "metadata": {},
   "outputs": [
    {
     "name": "stdout",
     "output_type": "stream",
     "text": [
      "please enter a number 10\n",
      "the natural logarithms is  10.0 , the common logarithms is  4.342944819032518\n"
     ]
    }
   ],
   "source": [
    "import math\n",
    "x=input('please enter a number ')\n",
    "y=math.e**int(x)\n",
    "print('the natural logarithms is ',math.log(y,math.e),',','the common logarithms is ',math.log10(y))"
   ]
  },
  {
   "cell_type": "code",
   "execution_count": null,
   "metadata": {},
   "outputs": [],
   "source": []
  }
 ],
 "metadata": {
  "kernelspec": {
   "display_name": "Python 3",
   "language": "python",
   "name": "python3"
  },
  "language_info": {
   "codemirror_mode": {
    "name": "ipython",
    "version": 3
   },
   "file_extension": ".py",
   "mimetype": "text/x-python",
   "name": "python",
   "nbconvert_exporter": "python",
   "pygments_lexer": "ipython3",
   "version": "3.7.3"
  }
 },
 "nbformat": 4,
 "nbformat_minor": 2
}
