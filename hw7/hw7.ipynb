{
 "cells": [
  {
   "cell_type": "code",
   "execution_count": 8,
   "metadata": {},
   "outputs": [
    {
     "data": {
      "text/plain": [
       "{'mean': 3.0, 'standard deviation': 1.4142135623730951, 'variance': 2.0}"
      ]
     },
     "execution_count": 8,
     "metadata": {},
     "output_type": "execute_result"
    }
   ],
   "source": [
    "import math\n",
    "def mvsd(n):\n",
    "    g=dict()\n",
    "    mean=sum(n)/len(n)\n",
    "    std = math.sqrt(sum([(x-mean)**2 for x in n])/len(n))\n",
    "    var=sum([(x-mean)**2 for x in n])/len(n)\n",
    "    g['mean']=mean\n",
    "    g['standard deviation']=std\n",
    "    g['variance']=var\n",
    "    return g\n",
    "n=[1,2,3,4,5]\n",
    "mvsd(n)"
   ]
  },
  {
   "cell_type": "code",
   "execution_count": 17,
   "metadata": {},
   "outputs": [
    {
     "name": "stdout",
     "output_type": "stream",
     "text": [
      "please enther a number(enter \"stop\" to finish enter)1\n",
      "please enther a number(enter \"stop\" to finish enter)2\n",
      "please enther a number(enter \"stop\" to finish enter)3\n",
      "please enther a number(enter \"stop\" to finish enter)stop\n",
      "0.0\n"
     ]
    }
   ],
   "source": [
    "n=0\n",
    "c=0\n",
    "y=0\n",
    "m=0\n",
    "while n!='stop':\n",
    "    n = input('please enther a number(enter \"stop\" to finish enter)')\n",
    "    if type(n)=='int':\n",
    "        m=int(n)\n",
    "    y+=m\n",
    "    c+=1\n",
    "    continue\n",
    "z=y/c\n",
    "print(z)\n"
   ]
  }
 ],
 "metadata": {
  "kernelspec": {
   "display_name": "Python 3",
   "language": "python",
   "name": "python3"
  },
  "language_info": {
   "codemirror_mode": {
    "name": "ipython",
    "version": 3
   },
   "file_extension": ".py",
   "mimetype": "text/x-python",
   "name": "python",
   "nbconvert_exporter": "python",
   "pygments_lexer": "ipython3",
   "version": "3.7.3"
  }
 },
 "nbformat": 4,
 "nbformat_minor": 2
}
