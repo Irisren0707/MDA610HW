{
 "cells": [
  {
   "cell_type": "code",
   "execution_count": 6,
   "metadata": {},
   "outputs": [
    {
     "name": "stdout",
     "output_type": "stream",
     "text": [
      "please enter a numeric grade.100\n",
      "A\n"
     ]
    }
   ],
   "source": [
    "g=int(input('please enter a numeric grade.'))\n",
    "if 90<=g<=100:\n",
    "    print('A')\n",
    "elif 80<=g<=89:\n",
    "    print('B')\n",
    "elif 70<=g<=79:\n",
    "    print('C')\n",
    "elif 60<=g<=69:\n",
    "    print('D')\n",
    "elif 0<=g<=59:\n",
    "    print('F')"
   ]
  },
  {
   "cell_type": "code",
   "execution_count": 2,
   "metadata": {},
   "outputs": [
    {
     "data": {
      "text/plain": [
       "[2, 5, 2, 2, 5]"
      ]
     },
     "execution_count": 2,
     "metadata": {},
     "output_type": "execute_result"
    }
   ],
   "source": [
    "a=[1,2,3,3,5]\n",
    "b=[2,2,4,5]\n",
    "c=[x for x in a if x in b]+[x for x in b if x in a]\n",
    "c"
   ]
  },
  {
   "cell_type": "code",
   "execution_count": 5,
   "metadata": {},
   "outputs": [
    {
     "name": "stdout",
     "output_type": "stream",
     "text": [
      "1 2 3 4 5 2 4 6 8 10 3 6 9 12 15 4 8 12 16 20 "
     ]
    }
   ],
   "source": [
    "for row in range(1,5):\n",
    "    for col in range(1,6):\n",
    "        print(row*col,end=' ')"
   ]
  },
  {
   "cell_type": "code",
   "execution_count": 13,
   "metadata": {},
   "outputs": [
    {
     "name": "stdout",
     "output_type": "stream",
     "text": [
      "{'a': 250, 'b': 320, 'c': 400, 'd': 10, 'e': 60}\n"
     ]
    }
   ],
   "source": [
    "adict = {'a': 200, 'b': 300, 'c': 400}\n",
    "bdict = {'a': 50, 'b': 20, 'd': 10, 'e': 60}\n",
    "for k in adict: \n",
    "    if k in bdict:\n",
    "        cdict[k]=adict[k]+bdict[k]\n",
    "    else:\n",
    "        cdict[k]=adict[k]\n",
    "for k in bdict:\n",
    "    if k not in adict:\n",
    "        cdict[k]=bdict[k]\n",
    "print(cdict)"
   ]
  },
  {
   "cell_type": "code",
   "execution_count": null,
   "metadata": {},
   "outputs": [],
   "source": []
  }
 ],
 "metadata": {
  "kernelspec": {
   "display_name": "Python 3",
   "language": "python",
   "name": "python3"
  },
  "language_info": {
   "codemirror_mode": {
    "name": "ipython",
    "version": 3
   },
   "file_extension": ".py",
   "mimetype": "text/x-python",
   "name": "python",
   "nbconvert_exporter": "python",
   "pygments_lexer": "ipython3",
   "version": "3.7.3"
  }
 },
 "nbformat": 4,
 "nbformat_minor": 2
}
