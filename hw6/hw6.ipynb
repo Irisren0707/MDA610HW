{
 "cells": [
  {
   "cell_type": "code",
   "execution_count": 7,
   "metadata": {},
   "outputs": [],
   "source": [
    "# freq\n",
    "def freq(str): \n",
    "    str = str.split()\n",
    "    str2= []\n",
    "    for i in str:              \n",
    "        if i not in str2: \n",
    "            str2.append(i)   \n",
    "    for i in range(0, len(str2)): \n",
    "        print('Frequency of', str2[i], 'is :', str.count(str2[i])) \n"
   ]
  },
  {
   "cell_type": "code",
   "execution_count": 9,
   "metadata": {},
   "outputs": [
    {
     "name": "stdout",
     "output_type": "stream",
     "text": [
      "Frequency of I is : 1\n",
      "Frequency of like is : 1\n",
      "Frequency of apple is : 1\n"
     ]
    }
   ],
   "source": [
    "str= 'I like apple'\n",
    "freq(str)"
   ]
  },
  {
   "cell_type": "code",
   "execution_count": 13,
   "metadata": {},
   "outputs": [
    {
     "name": "stdout",
     "output_type": "stream",
     "text": [
      "minimum is apple maximum is red\n"
     ]
    }
   ],
   "source": [
    "# min & max\n",
    "def min_and_max(n):\n",
    "    min1=min(n)\n",
    "    max1=max(n)\n",
    "    print('minimum is',min1,'maximum is',max1)\n",
    "a = ['apple','red','food']  \n",
    "min_and_max(a)"
   ]
  },
  {
   "cell_type": "code",
   "execution_count": 16,
   "metadata": {},
   "outputs": [
    {
     "name": "stdout",
     "output_type": "stream",
     "text": [
      "1\n",
      "6\n",
      "8\n",
      "14\n"
     ]
    }
   ],
   "source": [
    "# cum_sum\n",
    "def cum_sum(n):\n",
    "    y=0\n",
    "    for x in n:\n",
    "        y+=x\n",
    "        print(y)\n",
    "n=[1,5,2,6]\n",
    "cum_sum(n)"
   ]
  },
  {
   "cell_type": "code",
   "execution_count": 19,
   "metadata": {},
   "outputs": [
    {
     "name": "stdout",
     "output_type": "stream",
     "text": [
      "[5, 9, 13]\n"
     ]
    }
   ],
   "source": [
    "# dot\n",
    "def dot(x,y):\n",
    "    z=[x[n]+y[n] for n in range(len(x))]\n",
    "    print(z)\n",
    "x=[1,2,5]\n",
    "y=[4,7,8]\n",
    "dot(x,y)"
   ]
  },
  {
   "cell_type": "code",
   "execution_count": null,
   "metadata": {},
   "outputs": [],
   "source": []
  }
 ],
 "metadata": {
  "kernelspec": {
   "display_name": "Python 3",
   "language": "python",
   "name": "python3"
  },
  "language_info": {
   "codemirror_mode": {
    "name": "ipython",
    "version": 3
   },
   "file_extension": ".py",
   "mimetype": "text/x-python",
   "name": "python",
   "nbconvert_exporter": "python",
   "pygments_lexer": "ipython3",
   "version": "3.7.3"
  }
 },
 "nbformat": 4,
 "nbformat_minor": 2
}
